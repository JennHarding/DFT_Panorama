{
 "cells": [
  {
   "cell_type": "code",
   "execution_count": null,
   "metadata": {},
   "outputs": [],
   "source": [
    "import pandas as pd\n",
    "\n",
    "from DFT_UserInputs import user_inputs\n",
    "import DFT_Functions as Funcs\n",
    "import DFT_Graphing as Graph"
   ]
  },
  {
   "cell_type": "markdown",
   "metadata": {},
   "source": [
    "#Title\n",
    "\n",
    "Update NAME of excerpt for the title of the plot and save file (if using)."
   ]
  },
  {
   "cell_type": "code",
   "execution_count": null,
   "metadata": {},
   "outputs": [],
   "source": [
    "score_data = Funcs.score_to_data(user_inputs.values())\n",
    "\n",
    "save_info = f\"NAME_{user_inputs['window']}beat_{user_inputs['strategy']}\"\n",
    "title = f\"NAME: {user_inputs['window']}-Beat Window, {user_inputs['strategy']}\""
   ]
  },
  {
   "cell_type": "markdown",
   "metadata": {},
   "source": [
    "Makes the various dictionaries and dataframes"
   ]
  },
  {
   "cell_type": "code",
   "execution_count": null,
   "metadata": {},
   "outputs": [],
   "source": [
    "general_info = {'Window Number' : [x for x in range(1, len(score_data) + 1)],\n",
    "'Weighted Array' : [str(a.rounded_weighted_array()) for a in score_data],\n",
    "'Original Array' : [str(a.rounded_original_array()) for a in score_data],\n",
    "'Measure Range' : [f'Measures {a.start_measure}–{a.end_measure}' for a in score_data]\n",
    "}\n",
    "\n",
    "phases = {f'f{i} Phase' : [a.phase_dict()[f'f{i}'] for a in score_data] for i in range(1, 7)}\n",
    "quantized_phases = {f'f{i} Quantized Phase' : [Funcs.quantize_array(a.phase_dict()[f'f{i}']) for a in score_data] for i in range(1, 7)}\n",
    "magnitudes = {f'f{i} Magnitude' : [a.mag_dict()[f'f{i}'] for a in score_data] for i in range(1, 7)}\n",
    "\n",
    "master_dict = {**general_info, **phases, **quantized_phases, **magnitudes}\n",
    "\n",
    "general_df = pd.DataFrame(general_info)\n",
    "phase_df = pd.DataFrame(phases)\n",
    "quant_phase_df = pd.DataFrame(quantized_phases)\n",
    "mag_df = pd.DataFrame(magnitudes)\n",
    "master_df = pd.concat(dict(General = general_df, Magnitudes = mag_df, Phases = phase_df, QuantizedPhases = quant_phase_df), axis=1)"
   ]
  },
  {
   "cell_type": "code",
   "execution_count": null,
   "metadata": {},
   "outputs": [],
   "source": [
    "general_df.head()"
   ]
  },
  {
   "cell_type": "code",
   "execution_count": null,
   "metadata": {},
   "outputs": [],
   "source": [
    "phase_df.head()"
   ]
  },
  {
   "cell_type": "code",
   "execution_count": null,
   "metadata": {},
   "outputs": [],
   "source": [
    "quant_phase_df.head()"
   ]
  },
  {
   "cell_type": "code",
   "execution_count": null,
   "metadata": {},
   "outputs": [],
   "source": [
    "mag_df.head()"
   ]
  },
  {
   "cell_type": "code",
   "execution_count": null,
   "metadata": {},
   "outputs": [],
   "source": [
    "Graph.make_panorama(df=master_df, title=title, savehtml=None)"
   ]
  },
  {
   "cell_type": "code",
   "execution_count": null,
   "metadata": {},
   "outputs": [],
   "source": [
    "Graph.individual_panorama(df=master_df, coefficient=5)"
   ]
  },
  {
   "cell_type": "code",
   "execution_count": null,
   "metadata": {},
   "outputs": [],
   "source": [
    "Graph.magnitudes_panorama(df=master_df)"
   ]
  }
 ],
 "metadata": {
  "language_info": {
   "codemirror_mode": {
    "name": "ipython",
    "version": 3
   },
   "file_extension": ".py",
   "mimetype": "text/x-python",
   "name": "python",
   "nbconvert_exporter": "python",
   "pygments_lexer": "ipython3",
   "version": "3.8.2-final"
  },
  "orig_nbformat": 2,
  "kernelspec": {
   "name": "python38232bit4a11d25597d04379ad3406284be954db",
   "display_name": "Python 3.8.2 32-bit"
  }
 },
 "nbformat": 4,
 "nbformat_minor": 2
}